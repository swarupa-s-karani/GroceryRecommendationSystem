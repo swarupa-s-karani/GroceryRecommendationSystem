{
 "cells": [
  {
   "cell_type": "code",
   "execution_count": 1,
   "id": "20b660bc-facc-4608-9a8e-a188246938f6",
   "metadata": {
    "tags": []
   },
   "outputs": [],
   "source": [
    "import random\n",
    "from pyspark.sql import SparkSession\n",
    "from pyspark.sql.functions import col, lit, count\n",
    "from pyspark.ml.feature import StringIndexer\n",
    "from pyspark.ml.recommendation import ALS\n",
    "from pyspark.ml.evaluation import RegressionEvaluator\n",
    "\n",
    "# Initialize Spark session\n",
    "spark = SparkSession.builder \\\n",
    "    .appName(\"GroceryRecommendationSystem\") \\\n",
    "    .getOrCreate()\n"
   ]
  },
  {
   "cell_type": "code",
   "execution_count": 2,
   "id": "7b886e36-6e38-43b0-b78b-c40fe32d123a",
   "metadata": {
    "tags": []
   },
   "outputs": [],
   "source": [
    "# Load the dataset\n",
    "file_path = \"grocery-1.csv\"\n",
    "df = spark.read.csv(file_path, header=True, inferSchema=True)\n",
    "\n",
    "# List of item columns\n",
    "items_columns = [\"Item 1\", \"Item 2\", \"Item 3\", \"Item 4\", \"Item 5\"]\n",
    "\n",
    "# Explode the items columns to create a user-item interaction dataset\n",
    "exploded_df = None\n",
    "for col_name in items_columns:\n",
    "    temp_df = df.select(col_name).withColumnRenamed(col_name, \"item\").withColumn(\"transactionId\", lit(col_name))\n",
    "    if exploded_df is None:\n",
    "        exploded_df = temp_df\n",
    "    else:\n",
    "        exploded_df = exploded_df.union(temp_df)"
   ]
  },
  {
   "cell_type": "code",
   "execution_count": 3,
   "id": "91160fd9-1d14-4f0f-aaaf-fffd261bac42",
   "metadata": {
    "tags": []
   },
   "outputs": [],
   "source": [
    "# Remove null items\n",
    "exploded_df = exploded_df.filter(col(\"item\").isNotNull())\n",
    "\n",
    "# Indexing string columns to numeric for user and item IDs\n",
    "indexer_item = StringIndexer(inputCol=\"item\", outputCol=\"itemIndex\")\n",
    "indexer_transaction = StringIndexer(inputCol=\"transactionId\", outputCol=\"transactionIndex\")\n",
    "df_indexed = indexer_item.fit(exploded_df).transform(exploded_df)\n",
    "df_indexed = indexer_transaction.fit(df_indexed).transform(df_indexed)\n",
    "\n",
    "# Create a column for implicit feedback (binary interaction)\n",
    "df_indexed = df_indexed.withColumn(\"rating\", lit(1))\n",
    "\n",
    "# Prepare training and test data\n",
    "(training, test) = df_indexed.randomSplit([0.8, 0.2])\n"
   ]
  },
  {
   "cell_type": "code",
   "execution_count": 4,
   "id": "cb5c9c7b-4f46-4374-baaa-ff8107598477",
   "metadata": {
    "tags": []
   },
   "outputs": [
    {
     "name": "stdout",
     "output_type": "stream",
     "text": [
      "Root-mean-square error = 0.099131669854929\n"
     ]
    }
   ],
   "source": [
    "# Build the ALS model\n",
    "als = ALS(\n",
    "    maxIter=10,\n",
    "    regParam=0.1,\n",
    "    userCol=\"transactionIndex\",\n",
    "    itemCol=\"itemIndex\",\n",
    "    ratingCol=\"rating\",\n",
    "    coldStartStrategy=\"drop\"\n",
    ")\n",
    "model = als.fit(training)\n",
    "\n",
    "# Evaluate the model\n",
    "evaluator = RegressionEvaluator(\n",
    "    metricName=\"rmse\",\n",
    "    labelCol=\"rating\",\n",
    "    predictionCol=\"prediction\"\n",
    ")\n",
    "predictions = model.transform(test)\n",
    "rmse = evaluator.evaluate(predictions)\n",
    "print(f\"Root-mean-square error = {rmse}\")"
   ]
  },
  {
   "cell_type": "code",
   "execution_count": 6,
   "id": "49a3a3a7-cc4a-44bf-b28d-9ef09318e0f6",
   "metadata": {
    "tags": []
   },
   "outputs": [],
   "source": [
    "# Generate top N item recommendations for a given item name\n",
    "def get_recommendations(item_name, top_n=5):\n",
    "    item_index = df_indexed.filter(col(\"item\") == item_name).select(\"itemIndex\").distinct().collect()\n",
    "    if not item_index:\n",
    "        print(f\"No data found for item: {item_name}\")\n",
    "        return\n",
    "    item_index = item_index[0][0]\n",
    "\n",
    "    # Get user IDs that interacted with the given item\n",
    "    user_ids = df_indexed.filter(col(\"itemIndex\") == item_index).select(\"transactionIndex\").distinct()\n",
    "\n",
    "    # Generate recommendations for these users\n",
    "    user_recommendations = model.recommendForUserSubset(user_ids, top_n)\n",
    "\n",
    "    # Collect recommendations for the given item\n",
    "    rec_item_ids = set()\n",
    "    for user_rec in user_recommendations.collect():\n",
    "        recs = user_rec.recommendations\n",
    "        for rec in recs:\n",
    "            rec_item_ids.add(rec.itemIndex)\n",
    "\n",
    "    # Convert item indices back to item names\n",
    "    rec_item_names = [row['item'] for row in df_indexed.filter(col(\"itemIndex\").isin(rec_item_ids)).select(\"item\").distinct().collect()]\n",
    "\n",
    "    if rec_item_names:\n",
    "        random_recommendations = random.sample(rec_item_names, min(len(rec_item_names), top_n))\n",
    "        print(f\"Recommendations for {item_name}: {random_recommendations}\")\n",
    "    else:\n",
    "        print(f\"No recommendations found for item: {item_name}\")\n"
   ]
  },
  {
   "cell_type": "code",
   "execution_count": 7,
   "id": "384a085e-f61c-400f-b6b5-ea08f40d5c99",
   "metadata": {
    "tags": []
   },
   "outputs": [],
   "source": [
    "from pyspark.sql.functions import col, count, desc, sum # type: ignore\n",
    "\n",
    "def get_most_bought_items(top_n=15):\n",
    "    most_bought_items = None\n",
    "    for col_name in items_columns:\n",
    "        if most_bought_items is None:\n",
    "            most_bought_items = df.groupBy(col(col_name).alias(\"item\")).agg(count(\"*\").alias(\"count\"))\n",
    "        else:\n",
    "            most_bought_items = most_bought_items.union(df.groupBy(col(col_name).alias(\"item\")).agg(count(\"*\").alias(\"count\")))\n",
    "    \n",
    "    # Filter out rows where item is None\n",
    "    most_bought_items = most_bought_items.filter(col(\"item\").isNotNull())\n",
    "    \n",
    "    # Convert count column to integer\n",
    "    most_bought_items = most_bought_items.withColumn(\"count\", col(\"count\").cast(\"int\"))\n",
    "    \n",
    "    # Aggregate counts and remove duplicates\n",
    "    most_bought_items = most_bought_items.groupBy(\"item\").agg(sum(\"count\").alias(\"total_count\"))\n",
    "    \n",
    "    # Order by total count in descending order\n",
    "    most_bought_items = most_bought_items.orderBy(desc(\"total_count\")).limit(top_n).collect()\n",
    "    \n",
    "    # Print the top N most bought items\n",
    "    print(f\"Top {top_n} Most bought items:\")\n",
    "    for idx, item in enumerate(most_bought_items, start=1):\n",
    "        print(f\"{idx}. {item['item']} - {item['total_count']} transactions\")"
   ]
  },
  {
   "cell_type": "code",
   "execution_count": 8,
   "id": "c77a632b-3a41-42a5-8152-cfa097ab46e2",
   "metadata": {
    "tags": []
   },
   "outputs": [
    {
     "name": "stdout",
     "output_type": "stream",
     "text": [
      "Recommendations for sugar: ['brandy', 'decalcifier', 'female sanitary products', 'salad dressing', 'rice']\n"
     ]
    }
   ],
   "source": [
    "# Example usage\n",
    "item_name = input('Enter the item name:')  # Replace with your input item name\n",
    "get_recommendations(item_name, top_n=5)"
   ]
  },
  {
   "cell_type": "code",
   "execution_count": 9,
   "id": "e7f768bb-617b-4574-9e65-73087dc31edb",
   "metadata": {
    "tags": []
   },
   "outputs": [
    {
     "name": "stdout",
     "output_type": "stream",
     "text": [
      "Top 15 Most bought items:\n",
      "1. whole milk - 2341 transactions\n",
      "2. other vegetables - 1799 transactions\n",
      "3. rolls/buns - 1421 transactions\n",
      "4. soda - 1185 transactions\n",
      "5. yogurt - 1143 transactions\n",
      "6. root vegetables - 1039 transactions\n",
      "7. tropical fruit - 1027 transactions\n",
      "8. sausage - 924 transactions\n",
      "9. citrus fruit - 812 transactions\n",
      "10. pip fruit - 737 transactions\n",
      "11. bottled water - 720 transactions\n",
      "12. canned beer - 636 transactions\n",
      "13. pastry - 608 transactions\n",
      "14. frankfurter - 580 transactions\n",
      "15. pork - 567 transactions\n"
     ]
    }
   ],
   "source": [
    "# Call the function to print the top 15 most bought items\n",
    "get_most_bought_items(top_n=15)"
   ]
  },
  {
   "cell_type": "code",
   "execution_count": null,
   "id": "36c621c3-6be4-4292-873c-38c05948cc4e",
   "metadata": {},
   "outputs": [],
   "source": []
  }
 ],
 "metadata": {
  "kernelspec": {
   "display_name": "Python 3 (ipykernel)",
   "language": "python",
   "name": "python3"
  },
  "language_info": {
   "codemirror_mode": {
    "name": "ipython",
    "version": 3
   },
   "file_extension": ".py",
   "mimetype": "text/x-python",
   "name": "python",
   "nbconvert_exporter": "python",
   "pygments_lexer": "ipython3",
   "version": "3.12.0"
  }
 },
 "nbformat": 4,
 "nbformat_minor": 5
}
